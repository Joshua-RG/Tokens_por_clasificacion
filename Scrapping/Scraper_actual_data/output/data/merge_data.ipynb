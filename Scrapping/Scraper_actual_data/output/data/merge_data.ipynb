{
 "cells": [
  {
   "cell_type": "code",
   "execution_count": 1,
   "metadata": {},
   "outputs": [],
   "source": [
    "import os\n",
    "import pandas as pd\n",
    "import numpy as np"
   ]
  },
  {
   "cell_type": "code",
   "execution_count": 2,
   "metadata": {},
   "outputs": [],
   "source": [
    "GAMING_PATH = './Gaming'\n",
    "IA_PATH = './IA'\n",
    "MEME_PATH = './Meme'\n",
    "RWA_PATH = './RWA'\n",
    "PATHS = [GAMING_PATH, IA_PATH, MEME_PATH, RWA_PATH]\n",
    "COLUMNS = ['A', 'Ranking', 'Name', 'Price', '1h%', '24h%', '7d%', 'Market Cap', 'Volume(24h)', 'Circulating Supply', 'B', 'C', 'D', 'URL', 'E', 'F', 'G', 'H', 'I', 'J', 'K', 'L', 'Z']"
   ]
  },
  {
   "cell_type": "code",
   "execution_count": 3,
   "metadata": {},
   "outputs": [],
   "source": [
    "# Funcion para combinar los archivos CSV\n",
    "def combine_csv(PATH):\n",
    "\n",
    "    # Lista para almacenar los dataframes\n",
    "    all_dataframes = []\n",
    "\n",
    "    # Abrimos los dataframes y los almacenamos en la lista\n",
    "    for file in os.listdir(PATH):\n",
    "        if file.endswith('.csv'):\n",
    "            df = pd.read_csv(f'{PATH}/{file}', header=None, names=COLUMNS, encoding='latin1')\n",
    "            all_dataframes.append(df)\n",
    "\n",
    "    # Combinar todos los DataFrames en uno solo\n",
    "    combined_df = pd.concat(all_dataframes, ignore_index=True)\n",
    "\n",
    "    # Guardar el DataFrame combinado en un nuevo archivo CSV\n",
    "    combined_df.to_csv(f'{PATH}/combined_data.csv', index=False, encoding='utf-8')\n",
    "\n",
    "    print(f'Los archivos CSV se han combinado exitosamente con encabezados en {PATH}/combined_data.csv')"
   ]
  },
  {
   "cell_type": "code",
   "execution_count": 16,
   "metadata": {},
   "outputs": [
    {
     "name": "stdout",
     "output_type": "stream",
     "text": [
      "Los archivos CSV se han combinado exitosamente con encabezados en ./Gaming/combined_data.csv\n",
      "Los archivos CSV se han combinado exitosamente con encabezados en ./IA/combined_data.csv\n",
      "Los archivos CSV se han combinado exitosamente con encabezados en ./Meme/combined_data.csv\n",
      "Los archivos CSV se han combinado exitosamente con encabezados en ./RWA/combined_data.csv\n"
     ]
    }
   ],
   "source": [
    "for PATH in PATHS:\n",
    "    combine_csv(PATH)"
   ]
  },
  {
   "cell_type": "code",
   "execution_count": 17,
   "metadata": {},
   "outputs": [],
   "source": [
    "# Funcion para pre procesar los archivos csv\n",
    "def preprocess(PATH):\n",
    "\n",
    "    # Leemos el CSV\n",
    "    df = pd.read_csv(f'{PATH}/combined_data.csv')\n",
    "\n",
    "    # Eliminamos las columnas A y Z ya que no contienen nada\n",
    "    df = df.dropna(axis=1, how='all')\n",
    "\n",
    "    # Separamos el nombre y abreviacion del token\n",
    "    df[['Name', 'Token']] = df['Name'].str.split('\\n', expand=True)\n",
    "    df.insert(df.columns.get_loc('Name') + 1, 'Token', df.pop('Token'))\n",
    "\n",
    "    # Reemplazamos los valores '--' por NaN y eliminamos las filas con valores NaN en la columna 'Market Cap'\n",
    "    df.replace('--', np.nan, inplace=True)\n",
    "    df = df.dropna(subset=['Market Cap'])\n",
    "\n",
    "    df.to_csv(f'{PATH}/combined_data.csv', index=False)\n",
    "\n",
    "    print(f'Los archivos CSV se han preprocesado exitosamente en {PATH}/combined_data.csv')\n"
   ]
  },
  {
   "cell_type": "code",
   "execution_count": 18,
   "metadata": {},
   "outputs": [
    {
     "name": "stderr",
     "output_type": "stream",
     "text": [
      "C:\\Users\\Equipo\\AppData\\Local\\Temp\\ipykernel_26028\\797462016.py:15: FutureWarning: Downcasting behavior in `replace` is deprecated and will be removed in a future version. To retain the old behavior, explicitly call `result.infer_objects(copy=False)`. To opt-in to the future behavior, set `pd.set_option('future.no_silent_downcasting', True)`\n",
      "  df.replace('--', np.nan, inplace=True)\n",
      "C:\\Users\\Equipo\\AppData\\Local\\Temp\\ipykernel_26028\\797462016.py:15: FutureWarning: Downcasting behavior in `replace` is deprecated and will be removed in a future version. To retain the old behavior, explicitly call `result.infer_objects(copy=False)`. To opt-in to the future behavior, set `pd.set_option('future.no_silent_downcasting', True)`\n",
      "  df.replace('--', np.nan, inplace=True)\n"
     ]
    },
    {
     "name": "stdout",
     "output_type": "stream",
     "text": [
      "Los archivos CSV se han preprocesado exitosamente en ./Gaming/combined_data.csv\n",
      "Los archivos CSV se han preprocesado exitosamente en ./IA/combined_data.csv\n",
      "Los archivos CSV se han preprocesado exitosamente en ./Meme/combined_data.csv\n",
      "Los archivos CSV se han preprocesado exitosamente en ./RWA/combined_data.csv\n"
     ]
    },
    {
     "name": "stderr",
     "output_type": "stream",
     "text": [
      "C:\\Users\\Equipo\\AppData\\Local\\Temp\\ipykernel_26028\\797462016.py:15: FutureWarning: Downcasting behavior in `replace` is deprecated and will be removed in a future version. To retain the old behavior, explicitly call `result.infer_objects(copy=False)`. To opt-in to the future behavior, set `pd.set_option('future.no_silent_downcasting', True)`\n",
      "  df.replace('--', np.nan, inplace=True)\n",
      "C:\\Users\\Equipo\\AppData\\Local\\Temp\\ipykernel_26028\\797462016.py:15: FutureWarning: Downcasting behavior in `replace` is deprecated and will be removed in a future version. To retain the old behavior, explicitly call `result.infer_objects(copy=False)`. To opt-in to the future behavior, set `pd.set_option('future.no_silent_downcasting', True)`\n",
      "  df.replace('--', np.nan, inplace=True)\n"
     ]
    }
   ],
   "source": [
    "for PATH in PATHS:\n",
    "    preprocess(PATH)"
   ]
  }
 ],
 "metadata": {
  "kernelspec": {
   "display_name": "env",
   "language": "python",
   "name": "python3"
  },
  "language_info": {
   "codemirror_mode": {
    "name": "ipython",
    "version": 3
   },
   "file_extension": ".py",
   "mimetype": "text/x-python",
   "name": "python",
   "nbconvert_exporter": "python",
   "pygments_lexer": "ipython3",
   "version": "3.12.1"
  }
 },
 "nbformat": 4,
 "nbformat_minor": 2
}
